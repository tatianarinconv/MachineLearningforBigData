{
  "nbformat": 4,
  "nbformat_minor": 0,
  "metadata": {
    "colab": {
      "name": "Test.ipynb",
      "version": "0.3.2",
      "provenance": [],
      "collapsed_sections": []
    },
    "kernelspec": {
      "name": "python3",
      "display_name": "Python 3"
    },
    "accelerator": "GPU"
  },
  "cells": [
    {
      "metadata": {
        "id": "eep104BLl66K",
        "colab_type": "code",
        "colab": {}
      },
      "cell_type": "code",
      "source": [
        "from os.path import exists\n",
        "from wheel.pep425tags import get_abbr_impl, get_impl_ver, get_abi_tag\n",
        "platform = '{}{}-{}'.format(get_abbr_impl(), get_impl_ver(), get_abi_tag())\n",
        "cuda_output = !ldconfig -p|grep cudart.so|sed -e 's/.*\\.\\([0-9]*\\)\\.\\([0-9]*\\)$/cu\\1\\2/'\n",
        "accelerator = cuda_output[0] if exists('/dev/nvidia0') else 'cpu'\n",
        "\n",
        "!pip install -q http://download.pytorch.org/whl/{accelerator}/torch-0.4.1-{platform}-linux_x86_64.whl torchvision\n",
        "import torch"
      ],
      "execution_count": 0,
      "outputs": []
    },
    {
      "metadata": {
        "id": "hOAXT_AEmnEQ",
        "colab_type": "code",
        "colab": {}
      },
      "cell_type": "code",
      "source": [
        "# import library \n",
        "import os\n",
        "import numpy as np\n",
        "import pandas as pd\n",
        "from skimage import io, transform\n",
        "\n",
        "import numpy as np\n",
        "import matplotlib.pyplot as plt\n",
        "from torch.utils.data import Dataset, DataLoader\n",
        "from torchvision import transforms, utils\n",
        "import torchvision.models as models\n",
        "import torch.nn as nn "
      ],
      "execution_count": 0,
      "outputs": []
    },
    {
      "metadata": {
        "id": "vCT_ft51mSgo",
        "colab_type": "code",
        "outputId": "508f6446-84a5-49e6-e2c4-1a5a0762e744",
        "colab": {
          "base_uri": "https://localhost:8080/",
          "height": 34
        }
      },
      "cell_type": "code",
      "source": [
        "#import \n",
        "import PIL\n",
        "print(PIL.PILLOW_VERSION)"
      ],
      "execution_count": 0,
      "outputs": [
        {
          "output_type": "stream",
          "text": [
            "4.1.1\n"
          ],
          "name": "stdout"
        }
      ]
    },
    {
      "metadata": {
        "id": "qynCfBZOnlan",
        "colab_type": "code",
        "outputId": "ba5973f3-ab2b-4500-e33c-39c730d031e2",
        "colab": {
          "base_uri": "https://localhost:8080/",
          "height": 190
        }
      },
      "cell_type": "code",
      "source": [
        "# install pillow 4.1.1 version\n",
        "!pip install Pillow==4.1.1\n",
        "\n"
      ],
      "execution_count": 0,
      "outputs": [
        {
          "output_type": "stream",
          "text": [
            "Collecting Pillow==4.1.1\n",
            "\u001b[?25l  Downloading https://files.pythonhosted.org/packages/36/e5/88b3d60924a3f8476fa74ec086f5fbaba56dd6cee0d82845f883b6b6dd18/Pillow-4.1.1-cp36-cp36m-manylinux1_x86_64.whl (5.7MB)\n",
            "\u001b[K    100% |████████████████████████████████| 5.7MB 7.7MB/s \n",
            "\u001b[?25hRequirement already satisfied: olefile in /usr/local/lib/python3.6/dist-packages (from Pillow==4.1.1) (0.46)\n",
            "Installing collected packages: Pillow\n",
            "  Found existing installation: Pillow 5.3.0\n",
            "    Uninstalling Pillow-5.3.0:\n",
            "      Successfully uninstalled Pillow-5.3.0\n",
            "Successfully installed Pillow-4.1.1\n"
          ],
          "name": "stdout"
        }
      ]
    },
    {
      "metadata": {
        "id": "Z6oIr47HoueS",
        "colab_type": "code",
        "colab": {}
      },
      "cell_type": "code",
      "source": [
        "from PIL import Image"
      ],
      "execution_count": 0,
      "outputs": []
    },
    {
      "metadata": {
        "id": "2LmcRZEboveS",
        "colab_type": "code",
        "outputId": "66ba5314-7b6e-46d1-a3c6-09183ba758bd",
        "colab": {
          "base_uri": "https://localhost:8080/",
          "height": 34
        }
      },
      "cell_type": "code",
      "source": [
        "#files upload to google drive\n",
        "#import drive\n",
        "from google.colab import drive\n",
        "drive.mount('/content/gdrive')"
      ],
      "execution_count": 0,
      "outputs": [
        {
          "output_type": "stream",
          "text": [
            "Drive already mounted at /content/gdrive; to attempt to forcibly remount, call drive.mount(\"/content/gdrive\", force_remount=True).\n"
          ],
          "name": "stdout"
        }
      ]
    },
    {
      "metadata": {
        "id": "ABUGoBFlo456",
        "colab_type": "code",
        "outputId": "79a557ae-e596-41d1-9367-012bdb3ee10e",
        "colab": {
          "base_uri": "https://localhost:8080/",
          "height": 34
        }
      },
      "cell_type": "code",
      "source": [
        "print(\"GPU is available\" if torch.cuda.is_available() else \"GPU is not available\")"
      ],
      "execution_count": 0,
      "outputs": [
        {
          "output_type": "stream",
          "text": [
            "GPU is available\n"
          ],
          "name": "stdout"
        }
      ]
    },
    {
      "metadata": {
        "id": "tWI-2Y_D24yU",
        "colab_type": "code",
        "colab": {}
      },
      "cell_type": "code",
      "source": [
        "#csv_file='/content/gdrive/My Drive/original_test.csv'\n",
        "root_dir='/content/gdrive/My Drive/train_corrected/train'\n"
      ],
      "execution_count": 0,
      "outputs": []
    },
    {
      "metadata": {
        "id": "dJS8dBi13DVe",
        "colab_type": "text"
      },
      "cell_type": "markdown",
      "source": [
        "**please change test csv file path and directory path**"
      ]
    },
    {
      "metadata": {
        "id": "WrDu1YInzBsi",
        "colab_type": "code",
        "colab": {}
      },
      "cell_type": "code",
      "source": [
        "#import test data\n",
        "# target to numbers \n",
        "test_data=pd.read_csv(csv_file) # file path of original test data\n",
        "img_name=test_data['image_name']\n",
        "target=test_data['target']\n",
        "\n",
        "target = target.map({\n",
        "    \"bus\": 0,\n",
        "    \"cement mixer\": 1,\n",
        "    \"crane truck\": 2,\n",
        "    \"dedicated agricultural vehicle\": 3,\n",
        "    \"hatchback\": 4,\n",
        "    \"jeep\": 5,\n",
        "    \"light truck\": 6,\n",
        "    \"minibus\": 7,\n",
        "    \"minivan\": 8,\n",
        "    \"pickup\": 9,\n",
        "    \"prime mover\": 10,\n",
        "    \"sedan\": 11,\n",
        "    \"tanker\": 12,\n",
        "    \"truck\": 13,\n",
        "    \"van\": 14 })\n",
        "\n",
        "#test_data.to_csv('/content/gdrive/My Drive/new_test')\n",
        "#print(test_data)\n",
        "new_test = pd.concat([img_name, target], axis = 1, join_axes = [img_name.index])\n",
        "new_test.to_csv(path_or_buf = '/content/gdrive/My Drive/new_test.csv', index = False)\n",
        "#if need index \n",
        "#new_test.to_csv(path_or_buf='/content/gdrive/My Drive/new_test.csv',index=True)"
      ],
      "execution_count": 0,
      "outputs": []
    },
    {
      "metadata": {
        "id": "ViPaRRXUzB0V",
        "colab_type": "code",
        "colab": {}
      },
      "cell_type": "code",
      "source": [
        "#bus: 0\n",
        "#cement mixer:1 \n",
        "#crane truck: 2\n",
        "#dedicated agricultural vehicle\n",
        "#hatchback: 4\n",
        "#jeep: 5\n",
        "#minibus: 7\n",
        "#minivan: 8\n",
        "#pickup: 9\n",
        "#prime mover: 10\n",
        "#sedan: 11\n",
        "#tanker: 12\n",
        "#truck: 13\n",
        "#van:14\n"
      ],
      "execution_count": 0,
      "outputs": []
    },
    {
      "metadata": {
        "id": "Dat4NH1R-tPf",
        "colab_type": "code",
        "colab": {}
      },
      "cell_type": "code",
      "source": [
        "#load csv file after mapping\n",
        "csv_file='/content/gdrive/My Drive/new_test.csv'"
      ],
      "execution_count": 0,
      "outputs": []
    },
    {
      "metadata": {
        "id": "WP0vZe8Vi9Ic",
        "colab_type": "text"
      },
      "cell_type": "markdown",
      "source": [
        "**please change csv file path and root dir**"
      ]
    },
    {
      "metadata": {
        "id": "RkmDyAF9_n6m",
        "colab_type": "text"
      },
      "cell_type": "markdown",
      "source": [
        "#loading test file"
      ]
    },
    {
      "metadata": {
        "id": "NI3h4of4o_tn",
        "colab_type": "code",
        "colab": {}
      },
      "cell_type": "code",
      "source": [
        "#dataset\n",
        "class CarDataset(Dataset):\n",
        "  def __init__(self, csv_file, root_dir, transform=None):\n",
        "    # csv file path\n",
        "    # root dir\n",
        "    self.target_frame = pd.read_csv(csv_file)\n",
        "    self.root_dir = root_dir\n",
        "    self.transform = transform\n",
        "  \n",
        "  def __len__(self):\n",
        "    return len(self.target_frame)\n",
        "\n",
        "  def __getitem__(self, idx):\n",
        "    img_name = os.path.join(self.root_dir,\n",
        "                            self.target_frame.iloc[idx,0]) # idx 0: image_name\n",
        "    image = Image.open(img_name)\n",
        "    target=self.target_frame.iloc[idx,1] # idx 1: target\n",
        "    #target=int(target)\n",
        "    #sample = {'image': image}\n",
        "    if self.transform:\n",
        "            image = self.transform(image)\n",
        "\n",
        "    return image,target\n"
      ],
      "execution_count": 0,
      "outputs": []
    },
    {
      "metadata": {
        "id": "KUwxEmpG4n9w",
        "colab_type": "text"
      },
      "cell_type": "markdown",
      "source": [
        "**note: if using index is set True at previous step, [idx,0] change to [idx,1], [idx,1] change to [idx,2]**"
      ]
    },
    {
      "metadata": {
        "id": "7WuuPtqSpTWC",
        "colab_type": "code",
        "colab": {}
      },
      "cell_type": "code",
      "source": [
        "#normalize by mean and std \n",
        "normalize=transforms.Normalize(mean=[126.387,131.316,144.899],\n",
        "                              std=[36.263,37.283,36.225])\n",
        "test_dataset = CarDataset(csv_file=csv_file,    # csv file after mapping\n",
        "                                           root_dir=root_dir,\n",
        "                                           transform=transforms.Compose([\n",
        "                                               #transforms.ToPILImage(),\n",
        "                                               transforms.Resize((200,200)),\n",
        "                                               transforms.Pad(12,fill=0,padding_mode='constant'),  \n",
        "                                               #normalize,\n",
        "                                               transforms.ToTensor(),\n",
        "                                               normalize        \n",
        "                                           ]))"
      ],
      "execution_count": 0,
      "outputs": []
    },
    {
      "metadata": {
        "id": "8tAHRDLzp0Xc",
        "colab_type": "code",
        "colab": {}
      },
      "cell_type": "code",
      "source": [
        "test_dataloader=DataLoader(test_dataset,batch_size=32)"
      ],
      "execution_count": 0,
      "outputs": []
    },
    {
      "metadata": {
        "id": "ofYs3G0woDca",
        "colab_type": "code",
        "outputId": "23b6744e-522e-4e44-c221-7a87533facc0",
        "colab": {
          "base_uri": "https://localhost:8080/",
          "height": 34
        }
      },
      "cell_type": "code",
      "source": [
        "print(len(test_dataloader.dataset))"
      ],
      "execution_count": 0,
      "outputs": [
        {
          "output_type": "stream",
          "text": [
            "581\n"
          ],
          "name": "stdout"
        }
      ]
    },
    {
      "metadata": {
        "id": "K-7AYXMNO4SG",
        "colab_type": "code",
        "outputId": "d0e5701e-62c7-42a5-a3de-b9f9bdceb4f8",
        "colab": {
          "base_uri": "https://localhost:8080/",
          "height": 34
        }
      },
      "cell_type": "code",
      "source": [
        "device = torch.device(\"cuda:0\" if torch.cuda.is_available() else \"cpu\")\n",
        "print(device)"
      ],
      "execution_count": 0,
      "outputs": [
        {
          "output_type": "stream",
          "text": [
            "cuda:0\n"
          ],
          "name": "stdout"
        }
      ]
    },
    {
      "metadata": {
        "id": "YPJIspW0p9az",
        "colab_type": "code",
        "colab": {}
      },
      "cell_type": "code",
      "source": [
        "# test on test set \n",
        "def test(model,dataloader): \n",
        "    model.eval()\n",
        "    running_loss = 0\n",
        "    running_corrects = 0\n",
        "    with torch.no_grad():\n",
        "      for i, (inputs,labels) in enumerate (dataloader):\n",
        "        inputs = torch.tensor(inputs, dtype=torch.float, device=device)\n",
        "        labels = torch.tensor(labels, dtype=torch.long, device=device)\n",
        "        #print(inputs)\n",
        "        outputs = model(inputs)\n",
        "        _, preds = torch.max(outputs, 1)\n",
        "        loss = criterion(outputs, labels)\n",
        "\n",
        "        running_loss += loss.item()\n",
        "        running_corrects += torch.sum(preds == labels).item()\n",
        "        running_loss = running_loss / len(dataloader.dataset) #loss\n",
        "        running_acc = running_corrects / len(dataloader.dataset) #accuracy\n",
        "    \n",
        "    print(\"test acc::{:.6f}\".format(running_acc))\n",
        "    \n",
        "  "
      ],
      "execution_count": 0,
      "outputs": []
    },
    {
      "metadata": {
        "id": "Qz0o1XlV_7So",
        "colab_type": "text"
      },
      "cell_type": "markdown",
      "source": [
        "#loading model"
      ]
    },
    {
      "metadata": {
        "id": "yRl6rx8YZOJn",
        "colab_type": "text"
      },
      "cell_type": "markdown",
      "source": [
        "change the file path of a model "
      ]
    },
    {
      "metadata": {
        "id": "SVFlIpVGqOF0",
        "colab_type": "code",
        "outputId": "c0e2c33a-32aa-4eaf-d88d-b284f38236dd",
        "colab": {
          "base_uri": "https://localhost:8080/",
          "height": 1445
        }
      },
      "cell_type": "code",
      "source": [
        "#load one of previously training models\n",
        "#original_thu is only a test\n",
        "test_model = models.resnet18(pretrained = True)  #resnet18\n",
        "num_ftrs=test_model.fc.in_features\n",
        "test_model.fc=nn.Linear(num_ftrs,15) #number of features is 15\n",
        "test_model.load_state_dict(torch.load('/content/gdrive/My Drive/train_corrected/original_thu.pt')) # file path of one model\n",
        "test_model.to(device)"
      ],
      "execution_count": 0,
      "outputs": [
        {
          "output_type": "execute_result",
          "data": {
            "text/plain": [
              "ResNet(\n",
              "  (conv1): Conv2d(3, 64, kernel_size=(7, 7), stride=(2, 2), padding=(3, 3), bias=False)\n",
              "  (bn1): BatchNorm2d(64, eps=1e-05, momentum=0.1, affine=True, track_running_stats=True)\n",
              "  (relu): ReLU(inplace)\n",
              "  (maxpool): MaxPool2d(kernel_size=3, stride=2, padding=1, dilation=1, ceil_mode=False)\n",
              "  (layer1): Sequential(\n",
              "    (0): BasicBlock(\n",
              "      (conv1): Conv2d(64, 64, kernel_size=(3, 3), stride=(1, 1), padding=(1, 1), bias=False)\n",
              "      (bn1): BatchNorm2d(64, eps=1e-05, momentum=0.1, affine=True, track_running_stats=True)\n",
              "      (relu): ReLU(inplace)\n",
              "      (conv2): Conv2d(64, 64, kernel_size=(3, 3), stride=(1, 1), padding=(1, 1), bias=False)\n",
              "      (bn2): BatchNorm2d(64, eps=1e-05, momentum=0.1, affine=True, track_running_stats=True)\n",
              "    )\n",
              "    (1): BasicBlock(\n",
              "      (conv1): Conv2d(64, 64, kernel_size=(3, 3), stride=(1, 1), padding=(1, 1), bias=False)\n",
              "      (bn1): BatchNorm2d(64, eps=1e-05, momentum=0.1, affine=True, track_running_stats=True)\n",
              "      (relu): ReLU(inplace)\n",
              "      (conv2): Conv2d(64, 64, kernel_size=(3, 3), stride=(1, 1), padding=(1, 1), bias=False)\n",
              "      (bn2): BatchNorm2d(64, eps=1e-05, momentum=0.1, affine=True, track_running_stats=True)\n",
              "    )\n",
              "  )\n",
              "  (layer2): Sequential(\n",
              "    (0): BasicBlock(\n",
              "      (conv1): Conv2d(64, 128, kernel_size=(3, 3), stride=(2, 2), padding=(1, 1), bias=False)\n",
              "      (bn1): BatchNorm2d(128, eps=1e-05, momentum=0.1, affine=True, track_running_stats=True)\n",
              "      (relu): ReLU(inplace)\n",
              "      (conv2): Conv2d(128, 128, kernel_size=(3, 3), stride=(1, 1), padding=(1, 1), bias=False)\n",
              "      (bn2): BatchNorm2d(128, eps=1e-05, momentum=0.1, affine=True, track_running_stats=True)\n",
              "      (downsample): Sequential(\n",
              "        (0): Conv2d(64, 128, kernel_size=(1, 1), stride=(2, 2), bias=False)\n",
              "        (1): BatchNorm2d(128, eps=1e-05, momentum=0.1, affine=True, track_running_stats=True)\n",
              "      )\n",
              "    )\n",
              "    (1): BasicBlock(\n",
              "      (conv1): Conv2d(128, 128, kernel_size=(3, 3), stride=(1, 1), padding=(1, 1), bias=False)\n",
              "      (bn1): BatchNorm2d(128, eps=1e-05, momentum=0.1, affine=True, track_running_stats=True)\n",
              "      (relu): ReLU(inplace)\n",
              "      (conv2): Conv2d(128, 128, kernel_size=(3, 3), stride=(1, 1), padding=(1, 1), bias=False)\n",
              "      (bn2): BatchNorm2d(128, eps=1e-05, momentum=0.1, affine=True, track_running_stats=True)\n",
              "    )\n",
              "  )\n",
              "  (layer3): Sequential(\n",
              "    (0): BasicBlock(\n",
              "      (conv1): Conv2d(128, 256, kernel_size=(3, 3), stride=(2, 2), padding=(1, 1), bias=False)\n",
              "      (bn1): BatchNorm2d(256, eps=1e-05, momentum=0.1, affine=True, track_running_stats=True)\n",
              "      (relu): ReLU(inplace)\n",
              "      (conv2): Conv2d(256, 256, kernel_size=(3, 3), stride=(1, 1), padding=(1, 1), bias=False)\n",
              "      (bn2): BatchNorm2d(256, eps=1e-05, momentum=0.1, affine=True, track_running_stats=True)\n",
              "      (downsample): Sequential(\n",
              "        (0): Conv2d(128, 256, kernel_size=(1, 1), stride=(2, 2), bias=False)\n",
              "        (1): BatchNorm2d(256, eps=1e-05, momentum=0.1, affine=True, track_running_stats=True)\n",
              "      )\n",
              "    )\n",
              "    (1): BasicBlock(\n",
              "      (conv1): Conv2d(256, 256, kernel_size=(3, 3), stride=(1, 1), padding=(1, 1), bias=False)\n",
              "      (bn1): BatchNorm2d(256, eps=1e-05, momentum=0.1, affine=True, track_running_stats=True)\n",
              "      (relu): ReLU(inplace)\n",
              "      (conv2): Conv2d(256, 256, kernel_size=(3, 3), stride=(1, 1), padding=(1, 1), bias=False)\n",
              "      (bn2): BatchNorm2d(256, eps=1e-05, momentum=0.1, affine=True, track_running_stats=True)\n",
              "    )\n",
              "  )\n",
              "  (layer4): Sequential(\n",
              "    (0): BasicBlock(\n",
              "      (conv1): Conv2d(256, 512, kernel_size=(3, 3), stride=(2, 2), padding=(1, 1), bias=False)\n",
              "      (bn1): BatchNorm2d(512, eps=1e-05, momentum=0.1, affine=True, track_running_stats=True)\n",
              "      (relu): ReLU(inplace)\n",
              "      (conv2): Conv2d(512, 512, kernel_size=(3, 3), stride=(1, 1), padding=(1, 1), bias=False)\n",
              "      (bn2): BatchNorm2d(512, eps=1e-05, momentum=0.1, affine=True, track_running_stats=True)\n",
              "      (downsample): Sequential(\n",
              "        (0): Conv2d(256, 512, kernel_size=(1, 1), stride=(2, 2), bias=False)\n",
              "        (1): BatchNorm2d(512, eps=1e-05, momentum=0.1, affine=True, track_running_stats=True)\n",
              "      )\n",
              "    )\n",
              "    (1): BasicBlock(\n",
              "      (conv1): Conv2d(512, 512, kernel_size=(3, 3), stride=(1, 1), padding=(1, 1), bias=False)\n",
              "      (bn1): BatchNorm2d(512, eps=1e-05, momentum=0.1, affine=True, track_running_stats=True)\n",
              "      (relu): ReLU(inplace)\n",
              "      (conv2): Conv2d(512, 512, kernel_size=(3, 3), stride=(1, 1), padding=(1, 1), bias=False)\n",
              "      (bn2): BatchNorm2d(512, eps=1e-05, momentum=0.1, affine=True, track_running_stats=True)\n",
              "    )\n",
              "  )\n",
              "  (avgpool): AvgPool2d(kernel_size=7, stride=1, padding=0)\n",
              "  (fc): Linear(in_features=512, out_features=15, bias=True)\n",
              ")"
            ]
          },
          "metadata": {
            "tags": []
          },
          "execution_count": 34
        }
      ]
    },
    {
      "metadata": {
        "id": "Usq_JfJVqur4",
        "colab_type": "code",
        "outputId": "5032fc05-7274-450a-9ceb-3aa06ac512cb",
        "colab": {
          "base_uri": "https://localhost:8080/",
          "height": 34
        }
      },
      "cell_type": "code",
      "source": [
        "criterion = nn.CrossEntropyLoss()\n",
        "test=test(test_model,test_dataloader)"
      ],
      "execution_count": 0,
      "outputs": [
        {
          "output_type": "stream",
          "text": [
            "test acc::0.703959\n"
          ],
          "name": "stdout"
        }
      ]
    },
    {
      "metadata": {
        "id": "coRifqOvsnLK",
        "colab_type": "code",
        "colab": {}
      },
      "cell_type": "code",
      "source": [
        "#Merry Christmas and Happy New Year!"
      ],
      "execution_count": 0,
      "outputs": []
    }
  ]
}