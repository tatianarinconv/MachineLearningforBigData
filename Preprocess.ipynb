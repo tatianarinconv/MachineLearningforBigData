{
  "nbformat": 4,
  "nbformat_minor": 0,
  "metadata": {
    "colab": {
      "name": "Preprocess.ipynb",
      "version": "0.3.2",
      "provenance": [],
      "collapsed_sections": []
    },
    "kernelspec": {
      "name": "python3",
      "display_name": "Python 3"
    },
    "accelerator": "GPU"
  },
  "cells": [
    {
      "metadata": {
        "id": "d3uTdvpUKKfp",
        "colab_type": "code",
        "outputId": "cae82793-e7a8-4c6d-f77d-7ef07fce5949",
        "colab": {
          "base_uri": "https://localhost:8080/",
          "height": 89
        }
      },
      "cell_type": "code",
      "source": [
        "\n",
        "from os import listdir\n",
        "from os.path import isfile, join\n",
        "import matplotlib.image as mpimg\n",
        "import numpy as np\n",
        "import pandas as pd\n",
        "import matplotlib.pyplot as plt\n"
      ],
      "execution_count": 0,
      "outputs": [
        {
          "output_type": "stream",
          "text": [
            "tcmalloc: large alloc 1073750016 bytes == 0x5bf78000 @  0x7f57ec9e02a4 0x591a07 0x5b5d56 0x502e9a 0x506859 0x502209 0x502f3d 0x506859 0x504c28 0x502540 0x502f3d 0x506859 0x504c28 0x502540 0x502f3d 0x506859 0x504c28 0x502540 0x502f3d 0x507641 0x502209 0x502f3d 0x506859 0x504c28 0x502540 0x502f3d 0x507641 0x504c28 0x502540 0x502f3d 0x507641\n",
            "0.4.0\n",
            "GPU is available\n"
          ],
          "name": "stdout"
        }
      ]
    },
    {
      "metadata": {
        "id": "uNaKYc5IFBuG",
        "colab_type": "code",
        "outputId": "905630fe-1101-4322-95e1-1f05a8eaa96f",
        "colab": {
          "base_uri": "https://localhost:8080/",
          "height": 419
        }
      },
      "cell_type": "code",
      "source": [
        "!pip install Pillow==4.1.1\n",
        "!pip install image\n"
      ],
      "execution_count": 0,
      "outputs": [
        {
          "output_type": "stream",
          "text": [
            "Collecting Pillow==4.1.1\n",
            "\u001b[?25l  Downloading https://files.pythonhosted.org/packages/36/e5/88b3d60924a3f8476fa74ec086f5fbaba56dd6cee0d82845f883b6b6dd18/Pillow-4.1.1-cp36-cp36m-manylinux1_x86_64.whl (5.7MB)\n",
            "\u001b[K    100% |████████████████████████████████| 5.7MB 7.2MB/s \n",
            "\u001b[?25hRequirement already satisfied: olefile in /usr/local/lib/python3.6/dist-packages (from Pillow==4.1.1) (0.46)\n",
            "Installing collected packages: Pillow\n",
            "  Found existing installation: Pillow 5.3.0\n",
            "    Uninstalling Pillow-5.3.0:\n",
            "      Successfully uninstalled Pillow-5.3.0\n",
            "Successfully installed Pillow-4.1.1\n",
            "Collecting PIL\n",
            "\u001b[31m  Could not find a version that satisfies the requirement PIL (from versions: )\u001b[0m\n",
            "\u001b[31mNo matching distribution found for PIL\u001b[0m\n",
            "Collecting image\n",
            "  Downloading https://files.pythonhosted.org/packages/0c/ec/51969468a8b87f631cc0e60a6bf1e5f6eec8ef3fd2ee45dc760d5a93b82a/image-1.5.27-py2.py3-none-any.whl\n",
            "Requirement already satisfied: pillow in /usr/local/lib/python3.6/dist-packages (from image) (4.1.1)\n",
            "Collecting django (from image)\n",
            "\u001b[?25l  Downloading https://files.pythonhosted.org/packages/d1/e5/2676be45ea49cfd09a663f289376b3888accd57ff06c953297bfdee1fb08/Django-2.1.3-py3-none-any.whl (7.3MB)\n",
            "\u001b[K    100% |████████████████████████████████| 7.3MB 5.9MB/s \n",
            "\u001b[?25hRequirement already satisfied: olefile in /usr/local/lib/python3.6/dist-packages (from pillow->image) (0.46)\n",
            "Requirement already satisfied: pytz in /usr/local/lib/python3.6/dist-packages (from django->image) (2018.7)\n",
            "Installing collected packages: django, image\n",
            "Successfully installed django-2.1.3 image-1.5.27\n"
          ],
          "name": "stdout"
        }
      ]
    },
    {
      "metadata": {
        "id": "RJgx7CU0K5MK",
        "colab_type": "code",
        "outputId": "829ce88f-d885-470e-d270-12993346b05c",
        "colab": {
          "base_uri": "https://localhost:8080/",
          "height": 124
        }
      },
      "cell_type": "code",
      "source": [
        "# import drive\n",
        "\n",
        "from google.colab import drive\n",
        "drive.mount('/content/gdrive')"
      ],
      "execution_count": 0,
      "outputs": [
        {
          "output_type": "stream",
          "text": [
            "Go to this URL in a browser: https://accounts.google.com/o/oauth2/auth?client_id=947318989803-6bn6qk8qdgf4n4g3pfee6491hc0brc4i.apps.googleusercontent.com&redirect_uri=urn%3Aietf%3Awg%3Aoauth%3A2.0%3Aoob&scope=email%20https%3A%2F%2Fwww.googleapis.com%2Fauth%2Fdocs.test%20https%3A%2F%2Fwww.googleapis.com%2Fauth%2Fdrive%20https%3A%2F%2Fwww.googleapis.com%2Fauth%2Fdrive.photos.readonly%20https%3A%2F%2Fwww.googleapis.com%2Fauth%2Fpeopleapi.readonly&response_type=code\n",
            "\n",
            "Enter your authorization code:\n",
            "··········\n",
            "Mounted at /content/gdrive\n"
          ],
          "name": "stdout"
        }
      ]
    },
    {
      "metadata": {
        "id": "qdrTQxGQ7Bdv",
        "colab_type": "code",
        "outputId": "15484baa-c459-41e8-a3d4-911810ca0894",
        "colab": {
          "base_uri": "https://localhost:8080/",
          "height": 35
        }
      },
      "cell_type": "code",
      "source": [
        "# check current working directory \n",
        "cwd=os.getcwd()\n",
        "print(cwd)"
      ],
      "execution_count": 0,
      "outputs": [
        {
          "output_type": "stream",
          "text": [
            "/content\n"
          ],
          "name": "stdout"
        }
      ]
    },
    {
      "metadata": {
        "id": "oxMAXc0oxyDx",
        "colab_type": "code",
        "colab": {}
      },
      "cell_type": "code",
      "source": [
        "# train test split "
      ],
      "execution_count": 0,
      "outputs": []
    },
    {
      "metadata": {
        "id": "28WpIeN9x1bF",
        "colab_type": "code",
        "colab": {}
      },
      "cell_type": "code",
      "source": [
        "\n",
        "# read csv files \n",
        "# change file path to read csv file in a new device\n",
        "train_csv=pd.read_csv('/content/gdrive/My Drive/train_corrected/train_cars.csv')  # csv files in train_corrected folder\n",
        "image_name=train_csv['image_name']  # image name \n",
        "target=train_csv['target']  # target name \n",
        "\n",
        "#get the number of targets\n",
        "labels=list(set(target))\n",
        "num_target=len(labels) # num of targets\n",
        "print(num_target)\n",
        "\n"
      ],
      "execution_count": 0,
      "outputs": []
    },
    {
      "metadata": {
        "id": "pVwGwiru20iB",
        "colab_type": "text"
      },
      "cell_type": "markdown",
      "source": [
        "#calculate mean and variance"
      ]
    },
    {
      "metadata": {
        "id": "OMWtjxPksb_f",
        "colab_type": "code",
        "outputId": "afff2565-f84e-4951-9549-787a847008c0",
        "colab": {
          "base_uri": "https://localhost:8080/",
          "height": 121
        }
      },
      "cell_type": "code",
      "source": [
        "import PIL\n",
        "from PIL import Image, ImageStat\n",
        "# change train image directory file path \n",
        "train_img_dir = '/content/gdrive/My Drive/train_corrected/train'   # directory of images \n",
        "image_stats_list = [ImageStat.Stat(Image.open(train_img_dir + '/' + image_file)) for image_file in image_name.values]\n",
        "images_red_channel, images_green_channel, images_blue_channel = [stat.mean[0] for stat in image_stats_list], [stat.mean[1] for stat in image_stats_list], [stat.mean[2] for stat in image_stats_list]\n",
        "red_mean, red_variance = np.mean(images_red_channel), np.var(images_red_channel)\n",
        "green_mean, green_variance = np.mean(images_green_channel), np.var(images_green_channel)\n",
        "blue_mean, blue_variance = np.mean(images_blue_channel), np.var(images_blue_channel)\n",
        "print(red_mean)\n",
        "print(red_variance)\n",
        "print(green_mean)\n",
        "print(green_variance)\n",
        "print(blue_mean)\n",
        "print(blue_variance)"
      ],
      "execution_count": 0,
      "outputs": [
        {
          "output_type": "stream",
          "text": [
            "126.38666577834358\n",
            "1314.9006387283673\n",
            "131.3159263881931\n",
            "1389.8922673546715\n",
            "144.89859542302867\n",
            "1312.162832709058\n"
          ],
          "name": "stdout"
        }
      ]
    },
    {
      "metadata": {
        "id": "Wu5sjZb7IcpW",
        "colab_type": "code",
        "colab": {}
      },
      "cell_type": "code",
      "source": [
        "# import math library \n",
        "import math \n",
        "red_std=math.sqrt(red_variance)\n",
        "green_std=math.sqrt(green_variance)\n",
        "blue_std=math.sqrt(blue_variance)\n",
        "\n"
      ],
      "execution_count": 0,
      "outputs": []
    },
    {
      "metadata": {
        "id": "3Qc6cIffVAHZ",
        "colab_type": "code",
        "colab": {}
      },
      "cell_type": "code",
      "source": [
        "#red_mean=126.387\n",
        "#red_std=36.263\n",
        "#green_mean=131.316\n",
        "#red_std=37.283\n",
        "#blue_mean=144.899\n",
        "#blue_std=36.225"
      ],
      "execution_count": 0,
      "outputs": []
    },
    {
      "metadata": {
        "id": "jMYrKTDD24jg",
        "colab_type": "text"
      },
      "cell_type": "markdown",
      "source": [
        "#convert categorical lables by mapping "
      ]
    },
    {
      "metadata": {
        "id": "n-HrzVpgW35R",
        "colab_type": "code",
        "colab": {}
      },
      "cell_type": "code",
      "source": [
        "#import test data\n",
        "# target to numbers \n",
        "\n",
        "train_cars=pd.read_csv('/content/gdrive/My Drive/train_corrected/train_cars.csv') # file path of original train_cars.csv\n",
        "img_name=train_cars['image_name']\n",
        "target=train_cars['target']\n",
        "\n",
        "target = target.map({\n",
        "    \"bus\": 0,\n",
        "    \"cement mixer\": 1,\n",
        "    \"crane truck\": 2,\n",
        "    \"dedicated agricultural vehicle\": 3,\n",
        "    \"hatchback\": 4,\n",
        "    \"jeep\": 5,\n",
        "    \"light truck\": 6,\n",
        "    \"minibus\": 7,\n",
        "    \"minivan\": 8,\n",
        "    \"pickup\": 9,\n",
        "    \"prime mover\": 10,\n",
        "    \"sedan\": 11,\n",
        "    \"tanker\": 12,\n",
        "    \"truck\": 13,\n",
        "    \"van\": 14 })\n",
        "\n",
        "#test_data.to_csv('/content/gdrive/My Drive/new_test')\n",
        "#print(test_data)\n",
        "new_train_cars = pd.concat([img_name, target], axis = 1, join_axes = [img_name.index])\n",
        "new_train_cars.to_csv(path_or_buf = '/content/gdrive/My Drive/train_cars.csv', index = False)  # change file path\n",
        "#if need index \n",
        "#new_train_cars.to_csv(path_or_buf='/content/gdrive/My Drive/train_cars.csv',index=True)"
      ],
      "execution_count": 0,
      "outputs": []
    },
    {
      "metadata": {
        "id": "susphhRkXJ5H",
        "colab_type": "code",
        "colab": {}
      },
      "cell_type": "code",
      "source": [
        "#bus: 0\n",
        "#cement mixer:1 \n",
        "#crane truck: 2\n",
        "#dedicated agricultural vehicle\n",
        "#hatchback: 4\n",
        "#jeep: 5\n",
        "#minibus: 7\n",
        "#minivan: 8\n",
        "#pickup: 9\n",
        "#prime mover: 10\n",
        "#sedan: 11\n",
        "#tanker: 12\n",
        "#truck: 13\n",
        "#van:14\n"
      ],
      "execution_count": 0,
      "outputs": []
    },
    {
      "metadata": {
        "id": "wf3jMraQ3DBW",
        "colab_type": "text"
      },
      "cell_type": "markdown",
      "source": [
        "#split train and test"
      ]
    },
    {
      "metadata": {
        "id": "NuttZ-VxXG1g",
        "colab_type": "text"
      },
      "cell_type": "markdown",
      "source": [
        "**new csv file after mapping when spliting train and test** "
      ]
    },
    {
      "metadata": {
        "id": "8k462hNVSnYn",
        "colab_type": "code",
        "colab": {}
      },
      "cell_type": "code",
      "source": [
        "#split train and test \n",
        "from sklearn.model_selection import train_test_split\n",
        "\n",
        "#load the csv file path after mapping \n",
        "train_cars=pd.read_csv('/content/gdrive/My Drive/train_cars.csv')\n",
        "image_name=train_cars['image_name']\n",
        "target=train_cars['target']\n",
        "\n",
        "X_train, X_test, y_train, y_test = train_test_split(image_name, target, test_size=0.05, stratify=target)  # test size =0.05\n",
        "trainset = pd.concat([X_train, y_train], axis=1, join_axes=[X_train.index])\n",
        "testset = pd.concat([X_test, y_test], axis=1, join_axes=[X_test.index])\n",
        "trainset.to_csv(path_or_buf='content/gdrive/My Drive/trainset.csv',index=False)   # trainset,save into my drive \n",
        "testset.to_csv(path_or_buf='content/gdrive/My Drive/testset.csv',index=False)  #test set,save into my drive\n",
        "#trainset.to_csv(path_or_buf='content/gdrive/My Drive/trainset.csv',index=True)\n",
        "#testset.to_csv(path_or_buf='content/gdrive/My Drive/testset.csv',index=True)"
      ],
      "execution_count": 0,
      "outputs": []
    },
    {
      "metadata": {
        "id": "DrHyWKXG5Z41",
        "colab_type": "text"
      },
      "cell_type": "markdown",
      "source": [
        "note: trainset.csv and testset.csv are generated after mapping.\n",
        "Files used in Train_model are generated when index is set True. So trainset.csv and testset.csv in Train_model include index."
      ]
    }
  ]
}